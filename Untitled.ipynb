{
 "cells": [
  {
   "cell_type": "code",
   "execution_count": 26,
   "id": "48d6099e",
   "metadata": {},
   "outputs": [],
   "source": [
    "import re\n",
    "\n",
    "cases = [\n",
    "    \"pages/index.md\",\n",
    "    \"pages/file.html\",\n",
    "    \"pages/sites/file.md\",\n",
    "    \"pages/sites/index.html\",\n",
    "    \"pages/dir1/dir2/index.html\",\n",
    "    \"pages/dir1/dir2/file.html\"]"
   ]
  },
  {
   "cell_type": "code",
   "execution_count": 27,
   "id": "4141ef6a",
   "metadata": {},
   "outputs": [
    {
     "name": "stdout",
     "output_type": "stream",
     "text": [
      "pages/index.md ==> /\n",
      "pages/file.html ==> /file\n",
      "pages/sites/file.md ==> /sites/file\n",
      "pages/sites/index.html ==> /sites\n",
      "pages/dir1/dir2/index.html ==> /dir1/dir2\n",
      "pages/dir1/dir2/file.html ==> /dir1/dir2/file\n"
     ]
    }
   ],
   "source": [
    "regs = [\n",
    "    r\"^pages(?=/index)(/).*$\",\n",
    "    r\"^pages(?=.+/index\\..*)(.*)(?=/index\\.).*$\",\n",
    "    r\"^pages(?!.*/index\\.)(.*)(?=\\.).*$\"\n",
    "   ]\n",
    "\n",
    "for case in cases:\n",
    "    for regex in regs:\n",
    "        match = re.match(regex, case)\n",
    "        if match:\n",
    "            print(f\"{case} ==> {match.group(1)}\")"
   ]
  },
  {
   "cell_type": "code",
   "execution_count": 41,
   "id": "e53b2ad3",
   "metadata": {},
   "outputs": [
    {
     "name": "stdout",
     "output_type": "stream",
     "text": [
      "pages/index.md ==> /\n",
      "pages/file.html ==> /file\n",
      "pages/sites/file.md ==> /sites/file\n",
      "pages/sites/index.html ==> /sites\n",
      "pages/dir1/dir2/index.html ==> /dir1/dir2\n",
      "pages/dir1/dir2/file.html ==> /dir1/dir2/file\n"
     ]
    }
   ],
   "source": [
    "rall = r\"^pages(?P<all_but_index>((?=/index)(/))|((?=.+/index\\..*)(.*)(?=/index\\.))|((?!.*/index\\.)(.*)(?=\\.))).*$\"\n",
    "\n",
    "for case in cases:\n",
    "    match = re.match(rall, case)\n",
    "    if match:\n",
    "        print(f\"{case} ==> {match.group('all_but_index')}\")"
   ]
  },
  {
   "cell_type": "code",
   "execution_count": 22,
   "id": "f2538460",
   "metadata": {},
   "outputs": [
    {
     "data": {
      "text/plain": [
       "<re.Match object; span=(0, 30), match='pages/dir1/dir2/file.html.html'>"
      ]
     },
     "execution_count": 22,
     "metadata": {},
     "output_type": "execute_result"
    }
   ],
   "source": [
    "match"
   ]
  },
  {
   "cell_type": "code",
   "execution_count": 23,
   "id": "48e79087",
   "metadata": {},
   "outputs": [
    {
     "data": {
      "text/plain": [
       "('/dir1/dir2/file.html.',\n",
       " None,\n",
       " None,\n",
       " None,\n",
       " None,\n",
       " None,\n",
       " '/dir1/dir2/file.html.',\n",
       " '/dir1/dir2/file.html')"
      ]
     },
     "execution_count": 23,
     "metadata": {},
     "output_type": "execute_result"
    }
   ],
   "source": [
    "match.groups()"
   ]
  },
  {
   "cell_type": "code",
   "execution_count": 37,
   "id": "ef65afb5",
   "metadata": {},
   "outputs": [
    {
     "name": "stdout",
     "output_type": "stream",
     "text": [
      "pages/index.md ==> \n",
      "pages/index.md ==> index\n",
      "pages/file.html ==> file\n",
      "pages/sites/file.md ==> sites/file\n",
      "pages/sites/index.html ==> sites\n",
      "pages/dir1/dir2/index.html ==> dir1/dir2\n",
      "pages/dir1/dir2/file.html ==> dir1/dir2/file\n"
     ]
    }
   ],
   "source": [
    "regs = [\n",
    "    r\"^pages/(?=index)().*$\",\n",
    "    r\"^pages/(?=.+/index\\..*)(.*)(?=/index\\.).*$\",\n",
    "    r\"^pages/(?!.*/index\\.)(.*)(?=\\.).*$\"\n",
    "   ]\n",
    "\n",
    "for case in cases:\n",
    "    for regex in regs:\n",
    "        match = re.match(regex, case)\n",
    "        if match:\n",
    "            print(f\"{case} ==> {match.group(1)}\")"
   ]
  },
  {
   "cell_type": "code",
   "execution_count": 40,
   "id": "e476d980",
   "metadata": {},
   "outputs": [
    {
     "name": "stdout",
     "output_type": "stream",
     "text": [
      "pages/index.md ==> \n",
      "pages/file.html ==> file\n",
      "pages/sites/file.md ==> sites/file\n",
      "pages/sites/index.html ==> sites\n",
      "pages/dir1/dir2/index.html ==> dir1/dir2\n",
      "pages/dir1/dir2/file.html ==> dir1/dir2/file\n",
      "All matched!\n"
     ]
    }
   ],
   "source": [
    "rall = r\"^pages/(?P<all_but_index>((?=index)())|((?=.+/index\\..*)(.*)(?=/index\\.))|((?!.*/index\\.)(.*)(?=\\.))).*$\"\n",
    "\n",
    "count = 0\n",
    "for case in cases:\n",
    "    match = re.match(rall, case)\n",
    "    if match:\n",
    "        print(f\"{case} ==> {match.group('all_but_index')}\")\n",
    "        count += 1\n",
    "if count == 6:\n",
    "    print('All matched!')\n",
    "else:\n",
    "    print(f\"\\n\\n******* Error - only matched {count} of 6\")"
   ]
  },
  {
   "cell_type": "code",
   "execution_count": null,
   "id": "ad12e4cd",
   "metadata": {},
   "outputs": [],
   "source": []
  }
 ],
 "metadata": {
  "kernelspec": {
   "display_name": "pyenv-3.10.7",
   "language": "python",
   "name": "pyenv-3.10.7"
  },
  "language_info": {
   "codemirror_mode": {
    "name": "ipython",
    "version": 3
   },
   "file_extension": ".py",
   "mimetype": "text/x-python",
   "name": "python",
   "nbconvert_exporter": "python",
   "pygments_lexer": "ipython3",
   "version": "3.10.7"
  }
 },
 "nbformat": 4,
 "nbformat_minor": 5
}
